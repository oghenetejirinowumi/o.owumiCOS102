{
 "cells": [
  {
   "cell_type": "markdown",
   "id": "0b04e9fd-eb64-47de-ab3d-0d88d6984896",
   "metadata": {},
   "source": [
    "## Week_3 Practice 1: PYTHON STRING DATA TYPE"
   ]
  },
  {
   "cell_type": "code",
   "execution_count": 1,
   "id": "e8ad20dc-d169-4902-b4d2-336eb3863715",
   "metadata": {},
   "outputs": [
    {
     "name": "stdin",
     "output_type": "stream",
     "text": [
      "Enter your state of origin Delta\n"
     ]
    },
    {
     "name": "stdout",
     "output_type": "stream",
     "text": [
      "Your state of origin is:  Delta\n",
      "The first character is:  D\n",
      "The characters starting from 3rd to 5th are:  lta\n",
      "The string starting from 3rd character is:  lta\n",
      "State of origin two times DeltaDelta\n"
     ]
    }
   ],
   "source": [
    "str = input(\"Enter your state of origin\")\n",
    "\n",
    "print(\"Your state of origin is: \", str)\n",
    "print(\"The first character is: \", str[0])\n",
    "print(\"The characters starting from 3rd to 5th are: \", str[2:5])\n",
    "print(\"The string starting from 3rd character is: \", str[2:])\n",
    "print(\"State of origin two times\", str * 2)\n"
   ]
  },
  {
   "cell_type": "markdown",
   "id": "292472e1-df59-49a9-a867-9526450dc893",
   "metadata": {},
   "source": [
    "# Practice 2: PYTHON NUMERIC DATA TYPE"
   ]
  },
  {
   "cell_type": "code",
   "execution_count": 2,
   "id": "11d9b3b2-dd6f-44ef-bdef-610f1502599b",
   "metadata": {},
   "outputs": [
    {
     "name": "stdin",
     "output_type": "stream",
     "text": [
      "Enter mass in kilograms:  50.0\n"
     ]
    },
    {
     "name": "stdout",
     "output_type": "stream",
     "text": [
      "The enerygy equivalent to 50.0 kg of mass is 4.493775893684088e+18 joules.\n"
     ]
    }
   ],
   "source": [
    "# input from the user\n",
    "m = float(input(\"Enter mass in kilograms: \"))\n",
    "\n",
    "# Constant value for the speed of light in m/s\n",
    "c = 299792458\n",
    "\n",
    "# Calculating energy using Einstein's equation\n",
    "energy = m * c ** 2\n",
    "\n",
    "# Displaying the result\n",
    "print(f\"The enerygy equivalent to {m} kg of mass is {energy} joules.\")\n"
   ]
  },
  {
   "cell_type": "markdown",
   "id": "a94d0b80-4b47-41aa-aaea-5b0a80033d57",
   "metadata": {},
   "source": [
    "# Practice 3: PYTHON LIST DATA TYPE"
   ]
  },
  {
   "cell_type": "code",
   "execution_count": 19,
   "id": "6fea0f61-0ea9-4522-9345-f828964cfaa1",
   "metadata": {},
   "outputs": [
    {
     "name": "stdout",
     "output_type": "stream",
     "text": [
      "['Anaconda', 786, 2.23, 'Jupyter', 70.2]\n",
      "Anaconda\n",
      "[786, 2.23]\n",
      "[2.23, 'Jupyter', 70.2]\n",
      "[3211, 'Python', 3211, 'Python']\n",
      "['Anaconda', 786, 2.23, 'Jupyter', 70.2, 3211, 'Python']\n"
     ]
    }
   ],
   "source": [
    "list = [ 'Anaconda', 786, 2.23, 'Jupyter', 70.2 ]\n",
    "shortlist = [3211, 'Python']\n",
    "\n",
    "print(list) # Prints complete list\n",
    "print(list[0]) # Prints first element of the list\n",
    "print(list[1:3]) # Prints the elements starting from 2nd till 3rd\n",
    "print(list[2:]) # Prints elements starting from 3rd element\n",
    "print(shortlist * 2) #Ptrints list two times\n",
    "print(list + shortlist) # Prints concatenated list"
   ]
  },
  {
   "cell_type": "markdown",
   "id": "0aac591a-2961-47fe-8058-3618b7da55fc",
   "metadata": {},
   "source": [
    "# Practice 4: PYTHON TUPLE DATA TYPE"
   ]
  },
  {
   "cell_type": "code",
   "execution_count": 22,
   "id": "c2e8d5d6-71ad-4bf5-900f-033b336ad159",
   "metadata": {},
   "outputs": [
    {
     "name": "stdout",
     "output_type": "stream",
     "text": [
      "('Ekiti', 750, 'Osogbo', 250, 'Akure', 500)\n",
      "500\n",
      "('Osogbo', 250)\n",
      "(250, 'Akure', 500)\n",
      "('Abeokuta', 300, 'Ogbomoso', 'Abeokuta', 300, 'Ogbomoso', 'Abeokuta', 300, 'Ogbomoso')\n",
      "('Ekiti', 750, 'Osogbo', 250, 'Akure', 500, 'Abeokuta', 300, 'Ogbomoso')\n"
     ]
    }
   ],
   "source": [
    "tuple = (\"Ekiti\", 750, 'Osogbo', 250, \"Akure\", 500)\n",
    "s_tuple = (\"Abeokuta\", 300, \"Ogbomoso\")\n",
    "\n",
    "# Prints the complete tuple\n",
    "print(tuple)\n",
    "\n",
    "# Prints the last element of the tuple\n",
    "print(tuple[-1])\n",
    "\n",
    "# Prints elements of the tuple starting from 2nd till 3rd\n",
    "print(tuple[2:4])\n",
    "\n",
    "# Prints elements of the tuple starting from the 3rd elements\n",
    "print(tuple[3:])\n",
    "\n",
    "# Prints the content of the tuple twice\n",
    "print(s_tuple * 3)\n",
    "\n",
    "# Prints concatenated tuples\n",
    "print(tuple + s_tuple)"
   ]
  },
  {
   "cell_type": "markdown",
   "id": "4b1ae770-52fb-462b-b91c-c7c50fc245f5",
   "metadata": {},
   "source": [
    "# Practice 5: PYTHON BOOLEAN DATA TYPE "
   ]
  },
  {
   "cell_type": "code",
   "execution_count": 25,
   "id": "edceba49-e514-48c7-bab4-74a481f13be4",
   "metadata": {},
   "outputs": [
    {
     "name": "stdout",
     "output_type": "stream",
     "text": [
      "False\n",
      "False\n",
      "False\n",
      "False\n",
      "True\n"
     ]
    }
   ],
   "source": [
    "# Returns false as game_1 is not equal to game_2\n",
    "game_1 = 2\n",
    "game_2 = 4\n",
    "print(bool(game_1 == game_2))\n",
    "# Or\n",
    "print(game_1 == game_2)\n",
    "\n",
    "# Returns False as val is None\n",
    "val = None\n",
    "print(bool(val))\n",
    "\n",
    "# Returns false as num is an empty sequence\n",
    "num = ()\n",
    "print(bool(num))\n",
    "\n",
    "# Returns true as age is boolean\n",
    "age = True\n",
    "print(bool(age))"
   ]
  },
  {
   "cell_type": "markdown",
   "id": "b47ccfba-8a1c-4066-9f1e-69569399d458",
   "metadata": {},
   "source": [
    "# Practice 6: PYTHON DATA TYPE CONVERSIONS"
   ]
  },
  {
   "cell_type": "code",
   "execution_count": 28,
   "id": "2701c8a9-efd2-42f1-a0cb-46310ab8e05a",
   "metadata": {},
   "outputs": [
    {
     "name": "stdout",
     "output_type": "stream",
     "text": [
      "Grade = 70\n",
      "GPA = 4\n",
      "CGPA = 4\n"
     ]
    }
   ],
   "source": [
    "#Concert to int\n",
    "\n",
    "grade = int(70)\n",
    "gpa = int(4.9)\n",
    "cgpa = int(\"4\")\n",
    "\n",
    "print(f\"Grade = {grade}\")\n",
    "print(f\"GPA = {gpa}\")\n",
    "print(f\"CGPA = {cgpa}\")\n"
   ]
  },
  {
   "cell_type": "code",
   "execution_count": null,
   "id": "fc308d39-fa79-40ad-8c2f-ba3bf3569ad6",
   "metadata": {},
   "outputs": [],
   "source": [
    "grade = float(97)\n",
    "gpa = float(5)\n",
    "cgpa = float(\"4.7\")\n",
    "\n",
    "print(f\"Grade = {grade}\")\n",
    "print(f\"GPA = {gpa}\")\n",
    "print(f\"CGPA = {cgpa}\")"
   ]
  },
  {
   "cell_type": "code",
   "execution_count": null,
   "id": "98663c19-604b-4a7b-b567-d21f4303f467",
   "metadata": {},
   "outputs": [],
   "source": []
  }
 ],
 "metadata": {
  "kernelspec": {
   "display_name": "Python [conda env:base] *",
   "language": "python",
   "name": "conda-base-py"
  },
  "language_info": {
   "codemirror_mode": {
    "name": "ipython",
    "version": 3
   },
   "file_extension": ".py",
   "mimetype": "text/x-python",
   "name": "python",
   "nbconvert_exporter": "python",
   "pygments_lexer": "ipython3",
   "version": "3.12.7"
  }
 },
 "nbformat": 4,
 "nbformat_minor": 5
}
